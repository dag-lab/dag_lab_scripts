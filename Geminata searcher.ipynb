{
 "cells": [
  {
   "cell_type": "code",
   "execution_count": 1,
   "metadata": {
    "collapsed": false,
    "scrolled": true
   },
   "outputs": [],
   "source": [
    "import re, codecs"
   ]
  },
  {
   "cell_type": "code",
   "execution_count": 95,
   "metadata": {
    "collapsed": false
   },
   "outputs": [],
   "source": [
    "data = []\n",
    "\n",
    "regexp = re.compile(r\"(.)\\1\")\n",
    "text = codecs.open('C:/Users/samsung/Desktop/TextGrids/84_ramazan-03.TextGrid', 'r', 'utf-8').read()\n",
    "lines = re.split(r'\\r\\n', text)\n",
    "# for line in text:\n",
    "#     lines = line.split(u' ')\n",
    "#     for word in lines:\n",
    "#         data.append(word)\n",
    "        \n",
    "\n",
    "# doubles = [s for s in lines if regexp.search(s)]"
   ]
  },
  {
   "cell_type": "code",
   "execution_count": 96,
   "metadata": {
    "collapsed": false
   },
   "outputs": [],
   "source": [
    "text1 = []\n",
    "regexp1 = re.compile(r\"text = \\\"(.*)\\\"\")\n",
    "for i in lines:\n",
    "    match = regexp1.search(i)\n",
    "    if match:\n",
    "        text1.append(match.group(1))"
   ]
  },
  {
   "cell_type": "code",
   "execution_count": 97,
   "metadata": {
    "collapsed": false
   },
   "outputs": [],
   "source": [
    "dict = []\n",
    "text = text1[0:56]\n",
    "for i in text:\n",
    "    word = i.split(u' ')\n",
    "    for h in word:\n",
    "        dict.append(h)"
   ]
  },
  {
   "cell_type": "code",
   "execution_count": 98,
   "metadata": {
    "collapsed": false
   },
   "outputs": [],
   "source": [
    "regexp = re.compile(r\"(....)\\1\")\n",
    "for s in dict:\n",
    "    match = re.search(regexp, s)\n",
    "    if match:\n",
    "        print(s, \"<- match for double\", match.group(1))"
   ]
  }
 ],
 "metadata": {
  "anaconda-cloud": {},
  "kernelspec": {
   "display_name": "Python 3",
   "language": "python",
   "name": "python3"
  },
  "language_info": {
   "codemirror_mode": {
    "name": "ipython",
    "version": 3
   },
   "file_extension": ".py",
   "mimetype": "text/x-python",
   "name": "python",
   "nbconvert_exporter": "python",
   "pygments_lexer": "ipython3",
   "version": "3.5.2"
  }
 },
 "nbformat": 4,
 "nbformat_minor": 0
}
